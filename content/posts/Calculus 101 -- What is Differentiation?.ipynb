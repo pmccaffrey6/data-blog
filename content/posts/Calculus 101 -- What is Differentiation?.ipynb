{
 "cells": [
  {
   "cell_type": "markdown",
   "metadata": {},
   "source": [
    "## Calculus is one of the essential pillars of a good quantitative skillset (alongside linear algebra, statistics and geometry). That being said, many people who learn it don't really get to grasp the power and simplicity of the discipline. \n",
    "\n",
    "## At it's core, Calculus is the study of limits; it's a way of thinking about very abstract and challenging concepts and making them something we can get out hands--and heads--around. As such, Calculus really has two main tricks: differentiation and integration and the two are quite related to one another. \n",
    "\n",
    "## in this post, we're going to talk about differentiation and give an introduction to what it is and how we can use it. In the process, we're going to use the Python library `sympy` which will allow us to work with symbolic math.\n",
    "\n"
   ]
  },
  {
   "cell_type": "code",
   "execution_count": 1,
   "metadata": {
    "collapsed": true
   },
   "outputs": [],
   "source": [
    "import sympy as sm\n",
    "import numpy as np"
   ]
  },
  {
   "cell_type": "code",
   "execution_count": null,
   "metadata": {
    "collapsed": true
   },
   "outputs": [],
   "source": []
  }
 ],
 "metadata": {
  "kernelspec": {
   "display_name": "Python 3",
   "language": "python",
   "name": "python3"
  },
  "language_info": {
   "codemirror_mode": {
    "name": "ipython",
    "version": 3
   },
   "file_extension": ".py",
   "mimetype": "text/x-python",
   "name": "python",
   "nbconvert_exporter": "python",
   "pygments_lexer": "ipython3",
   "version": "3.5.2"
  }
 },
 "nbformat": 4,
 "nbformat_minor": 2
}
