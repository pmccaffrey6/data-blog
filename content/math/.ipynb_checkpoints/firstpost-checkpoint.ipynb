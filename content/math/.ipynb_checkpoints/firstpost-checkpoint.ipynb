{
 "cells": [
  {
   "cell_type": "markdown",
   "metadata": {
    "deletable": true,
    "editable": true
   },
   "source": [
    "Today begins what will hopefully be the first of many posts regarding the intersection of mathematics and programming.  This blog is intended to appeal to folks with some mathematical background, probably through finance, medicine, or economics, but it is not intended for true mathematicians-as that's not our background.  \n",
    "\n",
    "Dr. M and I began discussions about the importance of programming as a tool and not as a singular skill set.  We have selected a handful of books that over the next 1-2 years (maybe even longer!) will serve as a general outline of what we believe the most important base mathematic skills for data science on Dr. M's side and for general nonsensical posturing on mine.  \n",
    "\n",
    "Our backgrounds are quite different and Peter's programming skills are certainly more robust, but I think the combination of my math background as a PhD dropout and Peter's knowledge working in bioinformatics as a real doctor will prove synergistic to the end goal of educating ourselves about some neat things that we are interested in.  \n",
    "\n",
    "No one may ever read this blog, or maybe a few will, but for us it will serve as an illustrative template for how to teach yourself some hard(ish) things that can bear benefits for the rest of your professional career. The only assumption is for following the mathematics and book outlines is some general knowledge of high school level mathematics (American High School math).  The sequence should in essence be entirely self-contained. "
   ]
  },
  {
   "cell_type": "markdown",
   "metadata": {
    "deletable": true,
    "editable": true
   },
   "source": [
    "The first book we are beginning with is the Calculus Lifesaver, which generally covers all the integral and differential calculus one could need for single variable calculus. The books we choose will be discussed as in Peter's previous differentiation post. I will be posting my general overview of the first 5 to 6 chapters either at the end of this week or early next week."
   ]
  },
  {
   "cell_type": "markdown",
   "metadata": {
    "collapsed": true,
    "deletable": true,
    "editable": true
   },
   "source": [
    "Adios Amigos-"
   ]
  },
  {
   "cell_type": "code",
   "execution_count": null,
   "metadata": {
    "collapsed": true
   },
   "outputs": [],
   "source": []
  }
 ],
 "metadata": {
  "kernelspec": {
   "display_name": "Python 3",
   "language": "python",
   "name": "python3"
  },
  "language_info": {
   "codemirror_mode": {
    "name": "ipython",
    "version": 3
   },
   "file_extension": ".py",
   "mimetype": "text/x-python",
   "name": "python",
   "nbconvert_exporter": "python",
   "pygments_lexer": "ipython3",
   "version": "3.6.0"
  }
 },
 "nbformat": 4,
 "nbformat_minor": 2
}
